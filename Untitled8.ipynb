{
  "nbformat": 4,
  "nbformat_minor": 0,
  "metadata": {
    "colab": {
      "provenance": [],
      "mount_file_id": "1-J6Sg6pJRPQR2nkLRUG_Wptan7cm98MM",
      "authorship_tag": "ABX9TyOP2hedZvBsDLWx+ndrjmlv",
      "include_colab_link": true
    },
    "kernelspec": {
      "name": "python3",
      "display_name": "Python 3"
    },
    "language_info": {
      "name": "python"
    }
  },
  "cells": [
    {
      "cell_type": "markdown",
      "metadata": {
        "id": "view-in-github",
        "colab_type": "text"
      },
      "source": [
        "<a href=\"https://colab.research.google.com/github/Zozo0711/colab_projects/blob/main/Untitled8.ipynb\" target=\"_parent\"><img src=\"https://colab.research.google.com/assets/colab-badge.svg\" alt=\"Open In Colab\"/></a>"
      ]
    },
    {
      "cell_type": "code",
      "execution_count": null,
      "metadata": {
        "id": "XKEUXVJkJ1_O",
        "colab": {
          "base_uri": "https://localhost:8080/"
        },
        "outputId": "0661eb6e-cbbd-4ec3-a0d1-2f4bc73bef15"
      },
      "outputs": [
        {
          "output_type": "stream",
          "name": "stdout",
          "text": [
            "Mounted at /content/drive\n"
          ]
        }
      ],
      "source": [
        "from google.colab import drive\n",
        "drive.mount('/content/drive')\n"
      ]
    },
    {
      "cell_type": "code",
      "source": [
        "ls \"/content/drive/MyDrive/Colab Notebooks/Final Project\""
      ],
      "metadata": {
        "colab": {
          "base_uri": "https://localhost:8080/"
        },
        "id": "wDEE-IyxPfUa",
        "outputId": "cab91210-5d16-442d-a6f3-0df2315c4f29"
      },
      "execution_count": null,
      "outputs": [
        {
          "output_type": "stream",
          "name": "stdout",
          "text": [
            "'Argument Essay outline & first draft _ We should wash our clothes less often.txt'\n",
            "'Cause & Effect first draft & outline_Efficiency at Work - Why Fridays Outshine Mondays.txt'\n",
            "'Description essay_final draft.txt'\n"
          ]
        }
      ]
    },
    {
      "cell_type": "code",
      "source": [
        "import nltk\n",
        "from nltk.corpus import PlaintextCorpusReader\n",
        "\n",
        "corpus_root = '/content/drive/MyDrive/Colab Notebooks/Final Project'\n",
        "wordlists = PlaintextCorpusReader(corpus_root, '.*')\n",
        "\n",
        "books = wordlists.fileids()\n",
        "print(books)"
      ],
      "metadata": {
        "colab": {
          "base_uri": "https://localhost:8080/"
        },
        "id": "bJ6nzUfPU-1v",
        "outputId": "279bbe91-ca15-48e4-8b12-6e2ae5b87a55"
      },
      "execution_count": null,
      "outputs": [
        {
          "output_type": "stream",
          "name": "stdout",
          "text": [
            "['Argument Essay outline & first draft _ We should wash our clothes less often.txt', 'Cause & Effect first draft & outline_Efficiency at Work - Why Fridays Outshine Mondays.txt', 'Description essay_final draft.txt']\n"
          ]
        }
      ]
    },
    {
      "cell_type": "code",
      "source": [
        "import nltk\n",
        "testText = wordlists.words('Description essay_final draft.txt')\n",
        "single = nltk.text.Text(testText)\n",
        "print(single)"
      ],
      "metadata": {
        "colab": {
          "base_uri": "https://localhost:8080/"
        },
        "id": "Md3JJGd_V0He",
        "outputId": "f664df37-097d-4f2d-e42e-e74105400ec8"
      },
      "execution_count": null,
      "outputs": [
        {
          "output_type": "stream",
          "name": "stdout",
          "text": [
            "<Text: Lee 2 Savanzo Lee ( 511061028 ) Shelly...>\n"
          ]
        }
      ]
    },
    {
      "cell_type": "code",
      "source": [
        "single.count(\",\")"
      ],
      "metadata": {
        "colab": {
          "base_uri": "https://localhost:8080/"
        },
        "id": "GO0jNKbFWa1i",
        "outputId": "8945ac9e-1799-4c47-de04-66ffe741c021"
      },
      "execution_count": null,
      "outputs": [
        {
          "output_type": "execute_result",
          "data": {
            "text/plain": [
              "49"
            ]
          },
          "metadata": {},
          "execution_count": 10
        }
      ]
    },
    {
      "cell_type": "code",
      "source": [
        "single.concordance(\"with\", lines=25)"
      ],
      "metadata": {
        "colab": {
          "base_uri": "https://localhost:8080/"
        },
        "id": "nzu4yx7AWpeC",
        "outputId": "f9886cac-6fc4-4169-c0e3-aa8e92f6eec7"
      },
      "execution_count": null,
      "outputs": [
        {
          "output_type": "stream",
          "name": "stdout",
          "text": [
            "Displaying 6 of 6 matches:\n",
            "is small button - like nose twitches with curiosity , and his curly tail resem\n",
            "ever Dubee stands still on a table , with lustrous , snow - white fur and ador\n",
            "ples : firstly , he is friendly only with kids , dog lovers , and my family . \n",
            " me talk about the memorable moments with Dubee . The most unforgettable one w\n",
            "ubee would greet me enthusiastically with his curly tail wagging vigorously wh\n",
            "y and comfort . All in all , Dubee , with his white coat and endearing persona\n"
          ]
        }
      ]
    },
    {
      "cell_type": "code",
      "source": [
        "single.similar(\"with\")"
      ],
      "metadata": {
        "colab": {
          "base_uri": "https://localhost:8080/"
        },
        "id": "RGDquc6IXdav",
        "outputId": "15ae5125-ffaa-4b33-f303-6eff5a28832c"
      },
      "execution_count": null,
      "outputs": [
        {
          "output_type": "stream",
          "name": "stdout",
          "text": [
            "including\n"
          ]
        }
      ]
    }
  ]
}